{
 "cells": [
  {
   "cell_type": "code",
   "execution_count": null,
   "id": "a78a287b",
   "metadata": {},
   "outputs": [],
   "source": [
    "BANK OF AMERICA CODE "
   ]
  },
  {
   "cell_type": "code",
   "execution_count": 1,
   "id": "de3e6562",
   "metadata": {},
   "outputs": [],
   "source": [
    "from splinter import Browser\n",
    "from bs4 import BeautifulSoup\n",
    "import pandas as pd\n",
    "import selenium \n",
    "from webdriver_manager.chrome import ChromeDriverManager\n",
    "import requests "
   ]
  },
  {
   "cell_type": "code",
   "execution_count": 2,
   "id": "8d2f4fd8",
   "metadata": {},
   "outputs": [],
   "source": [
    "websites ='https://media.bac-assets.com/DigitalDeposit_CA_CA_North_Central.pdf?cacheBuster=431'\n",
    "result = requests.get(websites, stream = True)\n",
    "content = result.text\n",
    "soup = BeautifulSoup(content, 'lxml')\n",
    "result.content\n",
    "with open(\"95354 Bank of America Rates Comparison.pdf\",\"wb\") as pdf:\n",
    "    for chunk in result.iter_content (chunk_size=1024):\n",
    "         \n",
    "        if chunk:\n",
    "            pdf.write(chunk)"
   ]
  },
  {
   "cell_type": "code",
   "execution_count": 3,
   "id": "5609756c",
   "metadata": {},
   "outputs": [],
   "source": [
    "websites ='https://media.bac-assets.com/DigitalDeposit_NC_NC_Eastern.pdf?cacheBuster=7781'\n",
    "result = requests.get(websites, stream = True)\n",
    "content = result.text\n",
    "soup = BeautifulSoup(content, 'lxml')\n",
    "result.content\n",
    "with open(\"27701 Bank of America Rates Comparison.pdf\",\"wb\") as pdf:\n",
    "    for chunk in result.iter_content (chunk_size=1024):\n",
    "         \n",
    "        if chunk:\n",
    "            pdf.write(chunk)"
   ]
  },
  {
   "cell_type": "code",
   "execution_count": 4,
   "id": "dac00722",
   "metadata": {},
   "outputs": [],
   "source": [
    "websites ='https://media.bac-assets.com/DigitalDeposit_WA_Excluding_Portland.pdf?cacheBuster=5684'\n",
    "result = requests.get(websites, stream = True)\n",
    "content = result.text\n",
    "soup = BeautifulSoup(content, 'lxml')\n",
    "result.content\n",
    "with open(\"98902 Bank of America Rates Comparison.pdf\",\"wb\") as pdf:\n",
    "    for chunk in result.iter_content (chunk_size=1024):\n",
    "         \n",
    "        if chunk:\n",
    "            pdf.write(chunk)"
   ]
  },
  {
   "cell_type": "code",
   "execution_count": 5,
   "id": "6d1a721c",
   "metadata": {},
   "outputs": [],
   "source": [
    "websites ='https://media.bac-assets.com/DigitalDeposit_IL_IL_Excluding_STL.pdf?cacheBuster=3625'\n",
    "result = requests.get(websites, stream = True)\n",
    "content = result.text\n",
    "soup = BeautifulSoup(content, 'lxml')\n",
    "result.content\n",
    "with open(\"60619 Bank of America Rates Comparison.pdf\",\"wb\") as pdf:\n",
    "    for chunk in result.iter_content (chunk_size=1024):\n",
    "         \n",
    "        if chunk:\n",
    "            pdf.write(chunk)"
   ]
  },
  {
   "cell_type": "code",
   "execution_count": 6,
   "id": "3a46fba8",
   "metadata": {},
   "outputs": [],
   "source": [
    "websites ='https://media.bac-assets.com/DigitalDeposit_FL_FL_North.pdf?cacheBuster=2558'\n",
    "result = requests.get(websites, stream = True)\n",
    "content = result.text\n",
    "soup = BeautifulSoup(content, 'lxml')\n",
    "result.content\n",
    "with open(\"32225 Bank of America Rates Comparison.pdf\",\"wb\") as pdf:\n",
    "    for chunk in result.iter_content (chunk_size=1024):\n",
    "         \n",
    "        if chunk:\n",
    "            pdf.write(chunk)"
   ]
  },
  {
   "cell_type": "code",
   "execution_count": null,
   "id": "70ba0ccb",
   "metadata": {},
   "outputs": [],
   "source": [
    "USAA CODE"
   ]
  },
  {
   "cell_type": "code",
   "execution_count": 8,
   "id": "bfcf6389",
   "metadata": {},
   "outputs": [
    {
     "name": "stdout",
     "output_type": "stream",
     "text": [
      "Collecting pywebcopy\n",
      "  Downloading pywebcopy-7.0.2-py2.py3-none-any.whl (46 kB)\n",
      "     ---------------------------------------- 0.0/46.5 kB ? eta -:--:--\n",
      "     -------- ------------------------------- 10.2/46.5 kB ? eta -:--:--\n",
      "     ------------------------- ------------ 30.7/46.5 kB 262.6 kB/s eta 0:00:01\n",
      "     -------------------------------------- 46.5/46.5 kB 289.8 kB/s eta 0:00:00\n",
      "Requirement already satisfied: setuptools in c:\\users\\annaiab\\appdata\\local\\anaconda3\\envs\\pythondata\\lib\\site-packages (from pywebcopy) (68.0.0)\n",
      "Requirement already satisfied: six in c:\\users\\annaiab\\appdata\\local\\anaconda3\\envs\\pythondata\\lib\\site-packages (from pywebcopy) (1.16.0)\n",
      "Requirement already satisfied: requests in c:\\users\\annaiab\\appdata\\local\\anaconda3\\envs\\pythondata\\lib\\site-packages (from pywebcopy) (2.31.0)\n",
      "Requirement already satisfied: lxml in c:\\users\\annaiab\\appdata\\local\\anaconda3\\envs\\pythondata\\lib\\site-packages (from pywebcopy) (4.9.3)\n",
      "Collecting cachecontrol (from pywebcopy)\n",
      "  Obtaining dependency information for cachecontrol from https://files.pythonhosted.org/packages/1d/e3/a22348e6226dcd585d5a4b5f0175b3a16dabfd3912cbeb02f321d00e56c7/cachecontrol-0.13.1-py3-none-any.whl.metadata\n",
      "  Downloading cachecontrol-0.13.1-py3-none-any.whl.metadata (3.0 kB)\n",
      "Requirement already satisfied: msgpack>=0.5.2 in c:\\users\\annaiab\\appdata\\local\\anaconda3\\envs\\pythondata\\lib\\site-packages (from cachecontrol->pywebcopy) (1.0.3)\n",
      "Requirement already satisfied: charset-normalizer<4,>=2 in c:\\users\\annaiab\\appdata\\local\\anaconda3\\envs\\pythondata\\lib\\site-packages (from requests->pywebcopy) (2.0.4)\n",
      "Requirement already satisfied: idna<4,>=2.5 in c:\\users\\annaiab\\appdata\\local\\anaconda3\\envs\\pythondata\\lib\\site-packages (from requests->pywebcopy) (3.4)\n",
      "Requirement already satisfied: urllib3<3,>=1.21.1 in c:\\users\\annaiab\\appdata\\local\\anaconda3\\envs\\pythondata\\lib\\site-packages (from requests->pywebcopy) (1.26.16)\n",
      "Requirement already satisfied: certifi>=2017.4.17 in c:\\users\\annaiab\\appdata\\local\\anaconda3\\envs\\pythondata\\lib\\site-packages (from requests->pywebcopy) (2023.7.22)\n",
      "Downloading cachecontrol-0.13.1-py3-none-any.whl (22 kB)\n",
      "Installing collected packages: cachecontrol, pywebcopy\n",
      "Successfully installed cachecontrol-0.13.1 pywebcopy-7.0.2\n",
      "Note: you may need to restart the kernel to use updated packages.\n"
     ]
    }
   ],
   "source": [
    "pip install pywebcopy\n"
   ]
  },
  {
   "cell_type": "code",
   "execution_count": 1,
   "id": "ad8c6812",
   "metadata": {},
   "outputs": [],
   "source": [
    "from pywebcopy import save_webpage"
   ]
  },
  {
   "cell_type": "code",
   "execution_count": null,
   "id": "0d0c80be",
   "metadata": {},
   "outputs": [],
   "source": [
    "url = 'https://www.usaa.com/inet/wc/bank-cds?akredirect=true'\n",
    "download_folder = '/'    \n",
    "\n",
    "kwargs = {'bypass_robots': True, 'project_name': 'recognisable-name'}\n",
    "\n",
    "save_webpage(url, download_folder, **kwargs)\n"
   ]
  },
  {
   "cell_type": "code",
   "execution_count": null,
   "id": "e7c8de20",
   "metadata": {},
   "outputs": [],
   "source": []
  }
 ],
 "metadata": {
  "kernelspec": {
   "display_name": "Python 3 (ipykernel)",
   "language": "python",
   "name": "python3"
  },
  "language_info": {
   "codemirror_mode": {
    "name": "ipython",
    "version": 3
   },
   "file_extension": ".py",
   "mimetype": "text/x-python",
   "name": "python",
   "nbconvert_exporter": "python",
   "pygments_lexer": "ipython3",
   "version": "3.9.18"
  }
 },
 "nbformat": 4,
 "nbformat_minor": 5
}
